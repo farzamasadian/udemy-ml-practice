{
 "cells": [
  {
   "cell_type": "markdown",
   "id": "accebeb6",
   "metadata": {},
   "source": [
    "# CNN for Binary Image Classification"
   ]
  },
  {
   "cell_type": "markdown",
   "id": "baa181d2",
   "metadata": {},
   "source": [
    "## Imports"
   ]
  },
  {
   "cell_type": "code",
   "execution_count": 3,
   "id": "98102b01",
   "metadata": {},
   "outputs": [],
   "source": [
    "import tensorflow as tf"
   ]
  },
  {
   "cell_type": "code",
   "execution_count": 4,
   "id": "e56a0f6e",
   "metadata": {},
   "outputs": [
    {
     "data": {
      "text/plain": [
       "'2.16.2'"
      ]
     },
     "execution_count": 4,
     "metadata": {},
     "output_type": "execute_result"
    }
   ],
   "source": [
    "tf.__version__"
   ]
  },
  {
   "cell_type": "code",
   "execution_count": 1,
   "id": "ee4e79f1",
   "metadata": {},
   "outputs": [],
   "source": [
    "import pandas as pd\n",
    "import numpy as np\n",
    "import seaborn as sns\n",
    "import matplotlib.pyplot as plt\n",
    "%matplotlib inline"
   ]
  },
  {
   "cell_type": "markdown",
   "id": "2e77e79b",
   "metadata": {},
   "source": [
    "## Importing dataset from Kaggle"
   ]
  },
  {
   "cell_type": "code",
   "execution_count": 5,
   "id": "9aa66c13",
   "metadata": {},
   "outputs": [
    {
     "name": "stdout",
     "output_type": "stream",
     "text": [
      "Note: you may need to restart the kernel to use updated packages.\n"
     ]
    }
   ],
   "source": [
    "# installing kaggle API\n",
    "%pip install -q kaggle"
   ]
  },
  {
   "cell_type": "code",
   "execution_count": 7,
   "id": "6e28d908",
   "metadata": {},
   "outputs": [],
   "source": [
    "# create a directory as kaggle\n",
    "! mkdir -p ~/.kaggle"
   ]
  },
  {
   "cell_type": "code",
   "execution_count": 8,
   "id": "42ea68c2",
   "metadata": {},
   "outputs": [],
   "source": [
    "# import api key\n",
    "! mv ~/Downloads/kaggle.json ~/.kaggle/\n",
    "! chmod 600 ~/.kaggle/kaggle.json"
   ]
  },
  {
   "cell_type": "code",
   "execution_count": 9,
   "id": "5520247c",
   "metadata": {},
   "outputs": [
    {
     "name": "stdout",
     "output_type": "stream",
     "text": [
      "ref                                                          title                                                      size  lastUpdated                 downloadCount  voteCount  usabilityRating  \n",
      "-----------------------------------------------------------  --------------------------------------------------  -----------  --------------------------  -------------  ---------  ---------------  \n",
      "jayaantanaath/student-habits-vs-academic-performance         Student Habits vs Academic Performance                    19512  2025-04-12 10:49:08.663000          28216        501  1.0              \n",
      "adilshamim8/social-media-addiction-vs-relationships          Students' Social Media Addiction                           7851  2025-05-10 14:38:02.713000           4247         63  1.0              \n",
      "orvile/health-and-sleep-relation-2024                        Health and Sleep relation                                  2666  2025-05-08 12:35:19.687000           1764         33  1.0              \n",
      "omniamahmoudsaeed/real-estate-sales-2001-2022                Real Estate Sales 2001-2022                            38798519  2025-05-10 23:13:53.627000           1191         23  1.0              \n",
      "adilshamim8/cost-of-international-education                  Cost of International Education                           18950  2025-05-07 15:41:53.213000           6098        102  1.0              \n",
      "aryan208/student-habits-and-academic-performance-dataset     Student Habits and Academic Performance Dataset         2994172  2025-05-02 00:27:34.627000           1745         24  1.0              \n",
      "ivankmk/thousand-ml-jobs-in-usa                              Machine Learning Job Postings in the US                 1682058  2025-04-20 16:11:59.347000           6914        141  1.0              \n",
      "fatemehmohammadinia/heart-attack-dataset-tarik-a-rashid      Heart Attack Dataset                                      16250  2025-04-30 21:58:22.740000           5828         91  1.0              \n",
      "nikolasgegenava/popular-street-foods                         Popular Street Foods                                   19527605  2025-05-14 13:46:39.700000            481         23  1.0              \n",
      "mahdimashayekhi/mental-health                                Mental Health                                            137847  2025-05-07 08:53:42.807000           1746         28  1.0              \n",
      "madhuraatmarambhagat/crop-recommendation-dataset             Crop Recommendation Dataset                               65234  2025-05-08 17:02:09.397000           1511         39  1.0              \n",
      "joannanplkrk/its-raining-cats                                It's raining cats                                       1873279  2025-05-10 10:53:13.233000           1021         31  1.0              \n",
      "kamrangayibov/football-data-european-top-5-leagues           Football Data European Top 5 Leagues                     243753  2025-05-06 06:39:00.093000           1333         27  1.0              \n",
      "brendanartley/openfwi-preprocessed-72x72                     OpenFWI Preprocessed 72x72                          21654834947  2025-05-20 17:38:01.250000            695         22  1.0              \n",
      "mahdimashayekhi/fake-news-detection-dataset                  Fake News Detection Dataset                            11735585  2025-04-27 14:52:10.607000           2473         34  1.0              \n",
      "nikolasgegenava/music-instruments                            Musical Instruments                                     6512292  2025-05-14 18:46:46.840000            770         26  1.0              \n",
      "wikimedia-foundation/wikipedia-structured-contents           Wikipedia Structured Contents                       25121685657  2025-04-11 07:11:03.397000           2860        348  0.8125           \n",
      "zahidmughal2343/global-cancer-patients-2015-2024             global_cancer_patients_2015_2024                        1261049  2025-04-14 00:05:23.367000           5923         69  1.0              \n",
      "dansbecker/melbourne-housing-snapshot                        Melbourne Housing Snapshot                               461423  2018-06-05 12:52:24.087000         180024       1621  0.7058824        \n",
      "aryan208/financial-transactions-dataset-for-fraud-detection  Financial Transactions Dataset for Fraud Detection    290256858  2025-05-02 09:12:28.203000           1680         36  1.0              \n"
     ]
    }
   ],
   "source": [
    "# list of datasets\n",
    "! kaggle datasets list"
   ]
  },
  {
   "cell_type": "code",
   "execution_count": 12,
   "id": "1238cabe",
   "metadata": {},
   "outputs": [
    {
     "name": "stdout",
     "output_type": "stream",
     "text": [
      "Dataset URL: https://www.kaggle.com/datasets/tongpython/cat-and-dog\n",
      "License(s): CC0-1.0\n",
      "Downloading cat-and-dog.zip to /Users/farzam/Desktop/IT/ml/practice\n",
      "  0%|                                                | 0.00/218M [00:00<?, ?B/s]\n",
      "100%|████████████████████████████████████████| 218M/218M [00:00<00:00, 3.24GB/s]\n"
     ]
    }
   ],
   "source": [
    "! kaggle datasets download -d tongpython/cat-and-dog"
   ]
  },
  {
   "cell_type": "code",
   "execution_count": 13,
   "id": "ca712f8b",
   "metadata": {},
   "outputs": [],
   "source": [
    "# unzipping the dataset\n",
    "! unzip -q /Users/farzam/Desktop/IT/ml/practice/cat-and-dog.zip"
   ]
  },
  {
   "cell_type": "markdown",
   "id": "71a08eee",
   "metadata": {},
   "source": [
    "## building the model"
   ]
  },
  {
   "cell_type": "code",
   "execution_count": null,
   "id": "f7751718",
   "metadata": {},
   "outputs": [],
   "source": []
  }
 ],
 "metadata": {
  "kernelspec": {
   "display_name": "venv",
   "language": "python",
   "name": "python3"
  },
  "language_info": {
   "codemirror_mode": {
    "name": "ipython",
    "version": 3
   },
   "file_extension": ".py",
   "mimetype": "text/x-python",
   "name": "python",
   "nbconvert_exporter": "python",
   "pygments_lexer": "ipython3",
   "version": "3.12.2"
  }
 },
 "nbformat": 4,
 "nbformat_minor": 5
}
