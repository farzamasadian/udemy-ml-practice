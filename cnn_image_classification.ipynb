{
 "cells": [
  {
   "cell_type": "markdown",
   "id": "89143337",
   "metadata": {},
   "source": [
    "# CNN for Image Processing"
   ]
  },
  {
   "cell_type": "code",
   "execution_count": null,
   "id": "3e517e94",
   "metadata": {
    "vscode": {
     "languageId": "plaintext"
    }
   },
   "outputs": [],
   "source": []
  }
 ],
 "metadata": {
  "language_info": {
   "name": "python"
  }
 },
 "nbformat": 4,
 "nbformat_minor": 5
}
